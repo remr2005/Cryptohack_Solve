{
 "cells": [
  {
   "cell_type": "code",
   "execution_count": null,
   "metadata": {},
   "outputs": [],
   "source": [
    "def extend_euclid(a,b):\n",
    "    if b == 0:\n",
    "        return a, 1,0\n",
    "    gcd, x1, y1 =  extend_euclid(b, a%b)\n",
    "    x = y1\n",
    "    y = x1 - (a//b)*y1\n",
    "    return gcd, x, y\n"
   ]
  }
 ],
 "metadata": {
  "kernelspec": {
   "display_name": ".venv",
   "language": "python",
   "name": "python3"
  },
  "language_info": {
   "codemirror_mode": {
    "name": "ipython",
    "version": 3
   },
   "file_extension": ".py",
   "mimetype": "text/x-python",
   "name": "python",
   "nbconvert_exporter": "python",
   "pygments_lexer": "ipython3",
   "version": "3.10.0"
  }
 },
 "nbformat": 4,
 "nbformat_minor": 2
}
