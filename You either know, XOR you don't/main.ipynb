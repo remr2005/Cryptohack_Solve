{
 "cells": [
  {
   "cell_type": "code",
   "execution_count": 149,
   "metadata": {},
   "outputs": [
    {
     "data": {
      "text/plain": [
       "42"
      ]
     },
     "execution_count": 149,
     "metadata": {},
     "output_type": "execute_result"
    }
   ],
   "source": [
    "chiphr = \"0e0b213f26041e480b26217f27342e175d0e070a3c5b103e2526217f27342e175d0e077e263451150104\"\n",
    "b = bytes.fromhex(chiphr)\n",
    "len(b)"
   ]
  },
  {
   "cell_type": "code",
   "execution_count": 150,
   "metadata": {},
   "outputs": [],
   "source": [
    "b_ = \"crypto{\".encode(\"ascii\")"
   ]
  },
  {
   "cell_type": "code",
   "execution_count": 158,
   "metadata": {},
   "outputs": [
    {
     "data": {
      "text/plain": [
       "b'crypto{1f_y0u_Kn0w_En0uGH_y0u_Kn0w_1t_4ll}'"
      ]
     },
     "execution_count": 158,
     "metadata": {},
     "output_type": "execute_result"
    }
   ],
   "source": [
    "from pwn import xor\n",
    "k = \"myXORkey\".encode(\"ascii\")\n",
    "xor(b,k)"
   ]
  },
  {
   "cell_type": "code",
   "execution_count": 154,
   "metadata": {},
   "outputs": [
    {
     "data": {
      "text/plain": [
       "b'y'"
      ]
     },
     "execution_count": 154,
     "metadata": {},
     "output_type": "execute_result"
    }
   ],
   "source": [
    "(xor(\"}\".encode(), b[41]))"
   ]
  },
  {
   "cell_type": "code",
   "execution_count": 153,
   "metadata": {},
   "outputs": [
    {
     "name": "stdout",
     "output_type": "stream",
     "text": [
      "[109, 121, 88, 79, 82, 107, 101, 121, 89, 111, 117, 39, 108, 108, 32, 110, 101, 118, 101, 114, 32, 98, 101, 32, 97, 98, 108, 101, 32, 116, 111, 32, 103, 117, 101, 115, 115, 32, 105, 116]\n",
      "[14, 11, 33, 63, 38, 4, 30, 72, 11, 38, 33, 127, 39, 52, 46, 23, 93, 14, 7, 10, 60, 91, 16, 62, 37, 38, 33, 127, 39, 52, 46, 23, 93, 14, 7, 126, 38, 52, 81, 21, 1, 4]\n"
     ]
    }
   ],
   "source": [
    "print([i for i in k])\n",
    "print([i for i in b])"
   ]
  }
 ],
 "metadata": {
  "kernelspec": {
   "display_name": ".venv",
   "language": "python",
   "name": "python3"
  },
  "language_info": {
   "codemirror_mode": {
    "name": "ipython",
    "version": 3
   },
   "file_extension": ".py",
   "mimetype": "text/x-python",
   "name": "python",
   "nbconvert_exporter": "python",
   "pygments_lexer": "ipython3",
   "version": "3.10.0"
  }
 },
 "nbformat": 4,
 "nbformat_minor": 2
}
