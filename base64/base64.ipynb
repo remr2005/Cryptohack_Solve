{
 "cells": [
  {
   "cell_type": "markdown",
   "metadata": {},
   "source": [
    "# Задание\n",
    "Another common encoding scheme is Base64, which allows us to represent binary data as an ASCII string using an alphabet of 64 characters. One character of a Base64 string encodes 6 binary digits (bits), and so 4 characters of Base64 encode three 8-bit bytes.\n",
    "\n",
    "Base64 is most commonly used online, so binary data such as images can be easily included into HTML or CSS files.\n",
    "\n",
    "Take the below hex string, decode it into bytes and then encode it into Base64.\n",
    "\n",
    "72bca9b68fc16ac7beeb8f849dca1d8a783e8acf9679bf9269f7bf\n",
    "\n",
    " In Python, after importing the base64 module with import base64, you can use the base64.b64encode() function. Remember to decode the hex first as the challenge description states.\n",
    "# Перевод\n",
    " Другой распространённой схемой кодирования является Base64, которая позволяет представлять двоичные данные в виде строки ASCII с использованием алфавита из 64 символов. Один символ строки Base64 кодирует 6 двоичных цифр (битов), поэтому 4 символа Base64 кодируют три 8-битных байта.\n",
    "\n",
    "Base64 чаще всего используется в интернете, поэтому двоичные данные, например изображения, можно легко включить в файлы HTML или CSS.\n",
    "\n",
    "Возьмите приведённую ниже шестнадцатеричную строку, декодируйте её в байты, а затем закодируйте в Base64.\n",
    "\n",
    "72bca9b68fc16ac7beeb8f849dca1d8a783e8acf9679bf9269f7bf\n",
    "\n",
    " В Python после импорта модуля base64 с помощью import base64 вы можете использовать функцию base64.b64encode(). Не забудьте сначала декодировать шестнадцатеричное число, как указано в описании задачи.\n",
    "# Ответ\n",
    "Enter flag here: crypto/FLAG/"
   ]
  },
  {
   "cell_type": "code",
   "execution_count": 1,
   "metadata": {},
   "outputs": [],
   "source": [
    "a = bytes.fromhex(\"72bca9b68fc16ac7beeb8f849dca1d8a783e8acf9679bf9269f7bf\")"
   ]
  },
  {
   "cell_type": "code",
   "execution_count": 4,
   "metadata": {},
   "outputs": [
    {
     "name": "stdout",
     "output_type": "stream",
     "text": [
      "b'crypto/Base+64+Encoding+is+Web+Safe/'\n"
     ]
    }
   ],
   "source": [
    "import base64\n",
    "\n",
    "print(base64.b64encode(a))"
   ]
  }
 ],
 "metadata": {
  "kernelspec": {
   "display_name": ".venv",
   "language": "python",
   "name": "python3"
  },
  "language_info": {
   "codemirror_mode": {
    "name": "ipython",
    "version": 3
   },
   "file_extension": ".py",
   "mimetype": "text/x-python",
   "name": "python",
   "nbconvert_exporter": "python",
   "pygments_lexer": "ipython3",
   "version": "3.10.0"
  }
 },
 "nbformat": 4,
 "nbformat_minor": 2
}
